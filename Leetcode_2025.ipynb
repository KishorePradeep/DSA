{
  "nbformat": 4,
  "nbformat_minor": 0,
  "metadata": {
    "colab": {
      "provenance": [],
      "authorship_tag": "ABX9TyNu/iHZwuNDjEPkjH5g9UwW",
      "include_colab_link": true
    },
    "kernelspec": {
      "name": "python3",
      "display_name": "Python 3"
    },
    "language_info": {
      "name": "python"
    }
  },
  "cells": [
    {
      "cell_type": "markdown",
      "metadata": {
        "id": "view-in-github",
        "colab_type": "text"
      },
      "source": [
        "<a href=\"https://colab.research.google.com/github/KishorePradeep/DSA/blob/main/Leetcode_2025.ipynb\" target=\"_parent\"><img src=\"https://colab.research.google.com/assets/colab-badge.svg\" alt=\"Open In Colab\"/></a>"
      ]
    },
    {
      "cell_type": "code",
      "execution_count": 1,
      "metadata": {
        "colab": {
          "base_uri": "https://localhost:8080/"
        },
        "id": "pmkasyLe98Hp",
        "outputId": "1ca13fdb-c997-415c-c17f-7d2d27c70c11"
      },
      "outputs": [
        {
          "output_type": "stream",
          "name": "stdout",
          "text": [
            "hello world\n"
          ]
        }
      ],
      "source": [
        "print(\"hello world\")"
      ]
    },
    {
      "cell_type": "code",
      "source": [
        "i = [1,3,4,5]\n",
        "\n",
        "def dupes(i):\n",
        "\n",
        "   if len(i) == len(set(i)):\n",
        "    x=False\n",
        "   else:\n",
        "    x=True\n",
        "\n",
        "   return x\n",
        "\n",
        "print(dupes(i))\n"
      ],
      "metadata": {
        "colab": {
          "base_uri": "https://localhost:8080/"
        },
        "id": "WKmkbhuT-Dhb",
        "outputId": "b3810bcb-ccff-4b93-f4d3-1c2f6318d53e"
      },
      "execution_count": 24,
      "outputs": [
        {
          "output_type": "stream",
          "name": "stdout",
          "text": [
            "False\n"
          ]
        }
      ]
    },
    {
      "cell_type": "code",
      "source": [
        "l = (0,1,2,3,4,6,7)\n",
        "\n",
        "for i,j in enumerate(l):\n",
        "\n",
        "    if i!=j:\n",
        "        print(i)\n",
        "\n",
        "print((sum(range(0,len(l)+1)))-sum(l))\n"
      ],
      "metadata": {
        "colab": {
          "base_uri": "https://localhost:8080/"
        },
        "id": "FIE-7RkVSoLK",
        "outputId": "fb222793-1292-4ff5-8ebf-57387af8e42e"
      },
      "execution_count": 11,
      "outputs": [
        {
          "output_type": "stream",
          "name": "stdout",
          "text": [
            "5\n",
            "6\n",
            "5\n"
          ]
        }
      ]
    },
    {
      "cell_type": "code",
      "source": [
        "l = [0,1,3,4,6,7]\n",
        "j=[]\n",
        "\n",
        "for x,y in enumerate(l):\n",
        "\n",
        "  print(x,y)\n",
        "\n",
        "  if x!=y:\n",
        "    j.append(x)\n",
        "    x=x+1\n",
        "    print(x)\n"
      ],
      "metadata": {
        "colab": {
          "base_uri": "https://localhost:8080/"
        },
        "id": "NJmnwEEbC8O2",
        "outputId": "cb56677c-72ef-4a07-936b-61279a4dbac4"
      },
      "execution_count": 17,
      "outputs": [
        {
          "output_type": "stream",
          "name": "stdout",
          "text": [
            "0 0\n",
            "1 1\n",
            "2 3\n",
            "3\n",
            "3 4\n",
            "4\n",
            "4 6\n",
            "5\n",
            "5 7\n",
            "6\n"
          ]
        }
      ]
    },
    {
      "cell_type": "code",
      "source": [],
      "metadata": {
        "id": "Q-3pzJ9sIGCl"
      },
      "execution_count": null,
      "outputs": []
    }
  ]
}