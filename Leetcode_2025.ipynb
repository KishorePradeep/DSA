{
  "nbformat": 4,
  "nbformat_minor": 0,
  "metadata": {
    "colab": {
      "provenance": [],
      "generative_ai_disabled": true,
      "authorship_tag": "ABX9TyN8+jUGUbRZ01hRbw7rf1FH",
      "include_colab_link": true
    },
    "kernelspec": {
      "name": "python3",
      "display_name": "Python 3"
    },
    "language_info": {
      "name": "python"
    }
  },
  "cells": [
    {
      "cell_type": "markdown",
      "metadata": {
        "id": "view-in-github",
        "colab_type": "text"
      },
      "source": [
        "<a href=\"https://colab.research.google.com/github/KishorePradeep/DSA/blob/main/Leetcode_2025.ipynb\" target=\"_parent\"><img src=\"https://colab.research.google.com/assets/colab-badge.svg\" alt=\"Open In Colab\"/></a>"
      ]
    },
    {
      "cell_type": "code",
      "execution_count": null,
      "metadata": {
        "colab": {
          "base_uri": "https://localhost:8080/"
        },
        "id": "pmkasyLe98Hp",
        "outputId": "1ca13fdb-c997-415c-c17f-7d2d27c70c11"
      },
      "outputs": [
        {
          "output_type": "stream",
          "name": "stdout",
          "text": [
            "hello world\n"
          ]
        }
      ],
      "source": [
        "print(\"hello world\")"
      ]
    },
    {
      "cell_type": "code",
      "source": [
        "i = [1,3,4,5]\n",
        "\n",
        "def dupes(i):\n",
        "\n",
        "   if len(i) == len(set(i)):\n",
        "    x=False\n",
        "   else:\n",
        "    x=True\n",
        "\n",
        "   return x\n",
        "\n",
        "print(dupes(i))\n"
      ],
      "metadata": {
        "colab": {
          "base_uri": "https://localhost:8080/"
        },
        "id": "WKmkbhuT-Dhb",
        "outputId": "b3810bcb-ccff-4b93-f4d3-1c2f6318d53e"
      },
      "execution_count": null,
      "outputs": [
        {
          "output_type": "stream",
          "name": "stdout",
          "text": [
            "False\n"
          ]
        }
      ]
    },
    {
      "cell_type": "code",
      "source": [
        "l = (0,1,2,3,4,6,7)\n",
        "\n",
        "for i,j in enumerate(l):\n",
        "\n",
        "    if i!=j:\n",
        "        print(i)\n",
        "\n",
        "print((sum(range(0,len(l)+1)))-sum(l))\n"
      ],
      "metadata": {
        "colab": {
          "base_uri": "https://localhost:8080/"
        },
        "id": "FIE-7RkVSoLK",
        "outputId": "fb222793-1292-4ff5-8ebf-57387af8e42e"
      },
      "execution_count": null,
      "outputs": [
        {
          "output_type": "stream",
          "name": "stdout",
          "text": [
            "5\n",
            "6\n",
            "5\n"
          ]
        }
      ]
    },
    {
      "cell_type": "code",
      "source": [
        "l = [0,1,3,4,6,7]\n",
        "j=[]\n",
        "\n",
        "for x,y in enumerate(l):\n",
        "\n",
        "  print(x,y)\n",
        "  print(l[x])\n",
        "\n",
        "  # if x!=y:\n",
        "  #   j.append(x)\n",
        "  #   x=x+1\n",
        "  #   print(x)\n"
      ],
      "metadata": {
        "colab": {
          "base_uri": "https://localhost:8080/"
        },
        "id": "NJmnwEEbC8O2",
        "outputId": "78eba40a-a18e-4ab7-efdb-0931caf4aefb"
      },
      "execution_count": 4,
      "outputs": [
        {
          "output_type": "stream",
          "name": "stdout",
          "text": [
            "0 0\n",
            "0\n",
            "1 1\n",
            "1\n",
            "2 3\n",
            "3\n",
            "3 4\n",
            "4\n",
            "4 6\n",
            "6\n",
            "5 7\n",
            "7\n"
          ]
        }
      ]
    },
    {
      "cell_type": "code",
      "source": [
        "j = [1,2,3,4,4,6,6,8]\n",
        "\n",
        "l = set(j)\n",
        "x=[]\n",
        "\n",
        "for i in range(1,len(j)):\n",
        "\n",
        "  if i not in l:\n",
        "    x.append(i)\n",
        "\n",
        "print(x)"
      ],
      "metadata": {
        "colab": {
          "base_uri": "https://localhost:8080/"
        },
        "id": "Q-3pzJ9sIGCl",
        "outputId": "ac0ea0e9-04d5-41fa-a543-92e785d50f2b"
      },
      "execution_count": null,
      "outputs": [
        {
          "output_type": "stream",
          "name": "stdout",
          "text": [
            "[5, 7]\n"
          ]
        }
      ]
    },
    {
      "cell_type": "code",
      "source": [
        "t=9\n",
        "\n",
        "l = [2,7,11,15]\n",
        "\n",
        "j=[]\n",
        "\n",
        "\n",
        "for i in range(0,len(l)):\n",
        "  if (t-l[i]) in l:\n",
        "    j.append(i)\n",
        "\n",
        "\n",
        "print(j)\n",
        "\n",
        "\n",
        "\n"
      ],
      "metadata": {
        "colab": {
          "base_uri": "https://localhost:8080/"
        },
        "id": "R-SL2yxEJ2w-",
        "outputId": "afe1443c-57ed-4e9d-f136-cfa83b3b24e6"
      },
      "execution_count": 2,
      "outputs": [
        {
          "output_type": "stream",
          "name": "stdout",
          "text": [
            "[0, 1]\n"
          ]
        }
      ]
    },
    {
      "cell_type": "code",
      "source": [
        "target=9\n",
        "\n",
        "nums = [2,7,11,15]\n",
        "\n",
        "j=[]\n",
        "\n",
        "\n",
        "\n",
        "for x,y in enumerate(nums):\n",
        "  print(x,y)\n",
        "  print(nums[x])\n",
        "  print(nums[x]-target)\n",
        "  if nums[x]-target in nums:\n",
        "    print(x)"
      ],
      "metadata": {
        "colab": {
          "base_uri": "https://localhost:8080/"
        },
        "id": "HdlTbpfDR_Ij",
        "outputId": "8496a229-36d1-4771-8fa4-997f6e0cb16b"
      },
      "execution_count": 11,
      "outputs": [
        {
          "output_type": "stream",
          "name": "stdout",
          "text": [
            "0 2\n",
            "2\n",
            "-7\n",
            "1 7\n",
            "7\n",
            "-2\n",
            "2 11\n",
            "11\n",
            "2\n",
            "2\n",
            "3 15\n",
            "15\n",
            "6\n"
          ]
        }
      ]
    },
    {
      "cell_type": "code",
      "source": [
        "nums = [2,7,11,15,4,6]\n",
        "x=nums.sort(reverse=True)\n",
        "print(nums)"
      ],
      "metadata": {
        "colab": {
          "base_uri": "https://localhost:8080/"
        },
        "id": "w2LjFP7UYRxU",
        "outputId": "ca571594-e6e5-42d9-fb82-615545a4c368"
      },
      "execution_count": 16,
      "outputs": [
        {
          "output_type": "stream",
          "name": "stdout",
          "text": [
            "[15, 11, 7, 6, 4, 2]\n"
          ]
        }
      ]
    },
    {
      "cell_type": "code",
      "source": [
        "nums = [2,7,11,15,15, 4,6]\n",
        "x=sorted(nums)\n",
        "\n",
        "\n",
        "d={}\n",
        "y=[]\n",
        "\n",
        "for i,j in enumerate(x):\n",
        "  if i not in d:\n",
        "    d[j]=i\n",
        "\n",
        "print(d)\n",
        "\n",
        "# for i in nums:\n",
        "#   if i in d:\n",
        "#     y.append(d.values(i))\n",
        "\n",
        "print(y)"
      ],
      "metadata": {
        "colab": {
          "base_uri": "https://localhost:8080/"
        },
        "id": "aAB4u1ZSYqt7",
        "outputId": "51815910-5ad0-4146-a2a7-1502c1d0e3f7"
      },
      "execution_count": 21,
      "outputs": [
        {
          "output_type": "stream",
          "name": "stdout",
          "text": [
            "{2: 0, 4: 1, 7: 3, 15: 6}\n",
            "[]\n"
          ]
        }
      ]
    },
    {
      "cell_type": "code",
      "source": [],
      "metadata": {
        "id": "tr5qgpStsfhA"
      },
      "execution_count": null,
      "outputs": []
    },
    {
      "cell_type": "code",
      "source": [],
      "metadata": {
        "id": "Y8hFxS31rsGs"
      },
      "execution_count": null,
      "outputs": []
    },
    {
      "cell_type": "code",
      "source": [
        "nums"
      ],
      "metadata": {
        "id": "66_iutM4rRUl"
      },
      "execution_count": null,
      "outputs": []
    }
  ]
}